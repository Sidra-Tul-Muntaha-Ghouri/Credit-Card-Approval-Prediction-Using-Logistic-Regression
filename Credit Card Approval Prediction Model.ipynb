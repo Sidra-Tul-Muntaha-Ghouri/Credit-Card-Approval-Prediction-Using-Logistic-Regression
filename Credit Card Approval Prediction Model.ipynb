{
 "cells": [
  {
   "cell_type": "markdown",
   "id": "5ff5ae57",
   "metadata": {},
   "source": [
    "# Credit Card Approval Prediction Model"
   ]
  },
  {
   "cell_type": "code",
   "execution_count": 130,
   "id": "b99fffca",
   "metadata": {},
   "outputs": [],
   "source": [
    "# Data analysis\n",
    "import pandas as pd\n",
    "import numpy as np\n",
    "\n",
    "# Data Visualization\n",
    "import matplotlib.pyplot as plt\n",
    "import seaborn as sns\n",
    "%matplotlib inline\n",
    "\n",
    "# Data Preprocessing \n",
    "from sklearn.preprocessing import MinMaxScaler\n",
    "from sklearn.preprocessing import LabelEncoder\n",
    "\n",
    "from sklearn.model_selection import train_test_split\n",
    "from sklearn.linear_model import LogisticRegression\n",
    "\n",
    "#Metrices\n",
    "from sklearn.metrics import confusion_matrix\n",
    "from sklearn.metrics import r2_score\n",
    "from sklearn.metrics import f1_score\n",
    "from sklearn.metrics import mean_absolute_error\n",
    "from sklearn.metrics import mean_squared_error\n",
    "from sklearn.metrics import accuracy_score\n",
    "\n",
    "from sklearn.model_selection import GridSearchCV"
   ]
  },
  {
   "cell_type": "code",
   "execution_count": 43,
   "id": "55c0e9a8",
   "metadata": {},
   "outputs": [],
   "source": [
    "#Loading Dataset\n",
    "#dataset = pd.read_csv('http://archive.ics.uci.edu/ml/machine-learning-databases/credit-screening/crx.data', header = None, sep = ',')\n",
    "#using this because internet is not working\n",
    "dataset = pd.read_csv('Downloads/crx.csv')"
   ]
  },
  {
   "cell_type": "code",
   "execution_count": 44,
   "id": "6a74c53a",
   "metadata": {},
   "outputs": [],
   "source": [
    "# Setting Column Names\n",
    "dataset.columns=['Genre','Age','Debt','Married','BankCustomer','EducationLevel','Ethnicity','YearsEmployed','PriorDefault','Employed','CreditScore','DriversLicense','Citizen','ZipCode','Income','Approved']"
   ]
  },
  {
   "cell_type": "code",
   "execution_count": 45,
   "id": "b52bcad7",
   "metadata": {},
   "outputs": [
    {
     "name": "stdout",
     "output_type": "stream",
     "text": [
      "<class 'pandas.core.frame.DataFrame'>\n",
      "RangeIndex: 689 entries, 0 to 688\n",
      "Data columns (total 16 columns):\n",
      " #   Column          Non-Null Count  Dtype  \n",
      "---  ------          --------------  -----  \n",
      " 0   Genre           689 non-null    object \n",
      " 1   Age             689 non-null    object \n",
      " 2   Debt            689 non-null    float64\n",
      " 3   Married         689 non-null    object \n",
      " 4   BankCustomer    689 non-null    object \n",
      " 5   EducationLevel  689 non-null    object \n",
      " 6   Ethnicity       689 non-null    object \n",
      " 7   YearsEmployed   689 non-null    float64\n",
      " 8   PriorDefault    689 non-null    object \n",
      " 9   Employed        689 non-null    object \n",
      " 10  CreditScore     689 non-null    int64  \n",
      " 11  DriversLicense  689 non-null    object \n",
      " 12  Citizen         689 non-null    object \n",
      " 13  ZipCode         689 non-null    object \n",
      " 14  Income          689 non-null    int64  \n",
      " 15  Approved        689 non-null    object \n",
      "dtypes: float64(2), int64(2), object(12)\n",
      "memory usage: 86.2+ KB\n"
     ]
    }
   ],
   "source": [
    "dataset.info()"
   ]
  },
  {
   "cell_type": "code",
   "execution_count": 46,
   "id": "68d825d3",
   "metadata": {},
   "outputs": [
    {
     "data": {
      "text/plain": [
       "Genre             0\n",
       "Age               0\n",
       "Debt              0\n",
       "Married           0\n",
       "BankCustomer      0\n",
       "EducationLevel    0\n",
       "Ethnicity         0\n",
       "YearsEmployed     0\n",
       "PriorDefault      0\n",
       "Employed          0\n",
       "CreditScore       0\n",
       "DriversLicense    0\n",
       "Citizen           0\n",
       "ZipCode           0\n",
       "Income            0\n",
       "Approved          0\n",
       "dtype: int64"
      ]
     },
     "execution_count": 46,
     "metadata": {},
     "output_type": "execute_result"
    }
   ],
   "source": [
    "dataset.isna().sum()"
   ]
  },
  {
   "cell_type": "code",
   "execution_count": 47,
   "id": "826152cd",
   "metadata": {},
   "outputs": [
    {
     "data": {
      "text/html": [
       "<div>\n",
       "<style scoped>\n",
       "    .dataframe tbody tr th:only-of-type {\n",
       "        vertical-align: middle;\n",
       "    }\n",
       "\n",
       "    .dataframe tbody tr th {\n",
       "        vertical-align: top;\n",
       "    }\n",
       "\n",
       "    .dataframe thead th {\n",
       "        text-align: right;\n",
       "    }\n",
       "</style>\n",
       "<table border=\"1\" class=\"dataframe\">\n",
       "  <thead>\n",
       "    <tr style=\"text-align: right;\">\n",
       "      <th></th>\n",
       "      <th>Debt</th>\n",
       "      <th>YearsEmployed</th>\n",
       "      <th>CreditScore</th>\n",
       "      <th>Income</th>\n",
       "    </tr>\n",
       "  </thead>\n",
       "  <tbody>\n",
       "    <tr>\n",
       "      <th>count</th>\n",
       "      <td>689.000000</td>\n",
       "      <td>689.000000</td>\n",
       "      <td>689.000000</td>\n",
       "      <td>689.000000</td>\n",
       "    </tr>\n",
       "    <tr>\n",
       "      <th>mean</th>\n",
       "      <td>4.765631</td>\n",
       "      <td>2.224819</td>\n",
       "      <td>2.402032</td>\n",
       "      <td>1018.862119</td>\n",
       "    </tr>\n",
       "    <tr>\n",
       "      <th>std</th>\n",
       "      <td>4.978470</td>\n",
       "      <td>3.348739</td>\n",
       "      <td>4.866180</td>\n",
       "      <td>5213.743149</td>\n",
       "    </tr>\n",
       "    <tr>\n",
       "      <th>min</th>\n",
       "      <td>0.000000</td>\n",
       "      <td>0.000000</td>\n",
       "      <td>0.000000</td>\n",
       "      <td>0.000000</td>\n",
       "    </tr>\n",
       "    <tr>\n",
       "      <th>25%</th>\n",
       "      <td>1.000000</td>\n",
       "      <td>0.165000</td>\n",
       "      <td>0.000000</td>\n",
       "      <td>0.000000</td>\n",
       "    </tr>\n",
       "    <tr>\n",
       "      <th>50%</th>\n",
       "      <td>2.750000</td>\n",
       "      <td>1.000000</td>\n",
       "      <td>0.000000</td>\n",
       "      <td>5.000000</td>\n",
       "    </tr>\n",
       "    <tr>\n",
       "      <th>75%</th>\n",
       "      <td>7.250000</td>\n",
       "      <td>2.625000</td>\n",
       "      <td>3.000000</td>\n",
       "      <td>396.000000</td>\n",
       "    </tr>\n",
       "    <tr>\n",
       "      <th>max</th>\n",
       "      <td>28.000000</td>\n",
       "      <td>28.500000</td>\n",
       "      <td>67.000000</td>\n",
       "      <td>100000.000000</td>\n",
       "    </tr>\n",
       "  </tbody>\n",
       "</table>\n",
       "</div>"
      ],
      "text/plain": [
       "             Debt  YearsEmployed  CreditScore         Income\n",
       "count  689.000000     689.000000   689.000000     689.000000\n",
       "mean     4.765631       2.224819     2.402032    1018.862119\n",
       "std      4.978470       3.348739     4.866180    5213.743149\n",
       "min      0.000000       0.000000     0.000000       0.000000\n",
       "25%      1.000000       0.165000     0.000000       0.000000\n",
       "50%      2.750000       1.000000     0.000000       5.000000\n",
       "75%      7.250000       2.625000     3.000000     396.000000\n",
       "max     28.000000      28.500000    67.000000  100000.000000"
      ]
     },
     "execution_count": 47,
     "metadata": {},
     "output_type": "execute_result"
    }
   ],
   "source": [
    "dataset.describe()"
   ]
  },
  {
   "cell_type": "code",
   "execution_count": 48,
   "id": "969feebe",
   "metadata": {},
   "outputs": [
    {
     "data": {
      "text/html": [
       "<div>\n",
       "<style scoped>\n",
       "    .dataframe tbody tr th:only-of-type {\n",
       "        vertical-align: middle;\n",
       "    }\n",
       "\n",
       "    .dataframe tbody tr th {\n",
       "        vertical-align: top;\n",
       "    }\n",
       "\n",
       "    .dataframe thead th {\n",
       "        text-align: right;\n",
       "    }\n",
       "</style>\n",
       "<table border=\"1\" class=\"dataframe\">\n",
       "  <thead>\n",
       "    <tr style=\"text-align: right;\">\n",
       "      <th></th>\n",
       "      <th>Genre</th>\n",
       "      <th>Age</th>\n",
       "      <th>Married</th>\n",
       "      <th>BankCustomer</th>\n",
       "      <th>EducationLevel</th>\n",
       "      <th>Ethnicity</th>\n",
       "      <th>PriorDefault</th>\n",
       "      <th>Employed</th>\n",
       "      <th>DriversLicense</th>\n",
       "      <th>Citizen</th>\n",
       "      <th>ZipCode</th>\n",
       "      <th>Approved</th>\n",
       "    </tr>\n",
       "  </thead>\n",
       "  <tbody>\n",
       "    <tr>\n",
       "      <th>count</th>\n",
       "      <td>689</td>\n",
       "      <td>689</td>\n",
       "      <td>689</td>\n",
       "      <td>689</td>\n",
       "      <td>689</td>\n",
       "      <td>689</td>\n",
       "      <td>689</td>\n",
       "      <td>689</td>\n",
       "      <td>689</td>\n",
       "      <td>689</td>\n",
       "      <td>689</td>\n",
       "      <td>689</td>\n",
       "    </tr>\n",
       "    <tr>\n",
       "      <th>unique</th>\n",
       "      <td>3</td>\n",
       "      <td>349</td>\n",
       "      <td>4</td>\n",
       "      <td>4</td>\n",
       "      <td>15</td>\n",
       "      <td>10</td>\n",
       "      <td>2</td>\n",
       "      <td>2</td>\n",
       "      <td>2</td>\n",
       "      <td>3</td>\n",
       "      <td>170</td>\n",
       "      <td>2</td>\n",
       "    </tr>\n",
       "    <tr>\n",
       "      <th>top</th>\n",
       "      <td>b</td>\n",
       "      <td>?</td>\n",
       "      <td>u</td>\n",
       "      <td>g</td>\n",
       "      <td>c</td>\n",
       "      <td>v</td>\n",
       "      <td>t</td>\n",
       "      <td>f</td>\n",
       "      <td>f</td>\n",
       "      <td>g</td>\n",
       "      <td>00000</td>\n",
       "      <td>-</td>\n",
       "    </tr>\n",
       "    <tr>\n",
       "      <th>freq</th>\n",
       "      <td>467</td>\n",
       "      <td>12</td>\n",
       "      <td>518</td>\n",
       "      <td>518</td>\n",
       "      <td>137</td>\n",
       "      <td>398</td>\n",
       "      <td>360</td>\n",
       "      <td>395</td>\n",
       "      <td>373</td>\n",
       "      <td>624</td>\n",
       "      <td>132</td>\n",
       "      <td>383</td>\n",
       "    </tr>\n",
       "  </tbody>\n",
       "</table>\n",
       "</div>"
      ],
      "text/plain": [
       "       Genre  Age Married BankCustomer EducationLevel Ethnicity PriorDefault  \\\n",
       "count    689  689     689          689            689       689          689   \n",
       "unique     3  349       4            4             15        10            2   \n",
       "top        b    ?       u            g              c         v            t   \n",
       "freq     467   12     518          518            137       398          360   \n",
       "\n",
       "       Employed DriversLicense Citizen ZipCode Approved  \n",
       "count       689            689     689     689      689  \n",
       "unique        2              2       3     170        2  \n",
       "top           f              f       g   00000        -  \n",
       "freq        395            373     624     132      383  "
      ]
     },
     "execution_count": 48,
     "metadata": {},
     "output_type": "execute_result"
    }
   ],
   "source": [
    "dataset.describe(include = ['O'])"
   ]
  },
  {
   "cell_type": "markdown",
   "id": "0a469fe9",
   "metadata": {},
   "source": [
    "This data contains'?' in place of no/Nan values"
   ]
  },
  {
   "cell_type": "code",
   "execution_count": 49,
   "id": "690cd4c1",
   "metadata": {},
   "outputs": [],
   "source": [
    "dataset.replace('?', np.NaN, inplace = True)"
   ]
  },
  {
   "cell_type": "code",
   "execution_count": 50,
   "id": "ca92ccc4",
   "metadata": {},
   "outputs": [
    {
     "data": {
      "text/plain": [
       "Genre             12\n",
       "Age               12\n",
       "Debt               0\n",
       "Married            6\n",
       "BankCustomer       6\n",
       "EducationLevel     9\n",
       "Ethnicity          9\n",
       "YearsEmployed      0\n",
       "PriorDefault       0\n",
       "Employed           0\n",
       "CreditScore        0\n",
       "DriversLicense     0\n",
       "Citizen            0\n",
       "ZipCode           13\n",
       "Income             0\n",
       "Approved           0\n",
       "dtype: int64"
      ]
     },
     "execution_count": 50,
     "metadata": {},
     "output_type": "execute_result"
    }
   ],
   "source": [
    "dataset.isna().sum()"
   ]
  },
  {
   "cell_type": "code",
   "execution_count": 51,
   "id": "d39860a4",
   "metadata": {},
   "outputs": [
    {
     "name": "stderr",
     "output_type": "stream",
     "text": [
      "C:\\Users\\sidratul.muntaha\\AppData\\Local\\Temp\\ipykernel_10844\\2429533873.py:1: FutureWarning: Dropping of nuisance columns in DataFrame reductions (with 'numeric_only=None') is deprecated; in a future version this will raise TypeError.  Select only valid columns before calling the reduction.\n",
      "  dataset.fillna(dataset.mean(), inplace=True)\n"
     ]
    }
   ],
   "source": [
    "dataset.fillna(dataset.mean(), inplace=True)"
   ]
  },
  {
   "cell_type": "markdown",
   "id": "df66ac45",
   "metadata": {},
   "source": [
    "Since the dataset contains non-numerical values so mean is not applicable, therefore mode() will be used to fill empty cells"
   ]
  },
  {
   "cell_type": "code",
   "execution_count": 52,
   "id": "ee8c730e",
   "metadata": {},
   "outputs": [],
   "source": [
    "for col in dataset.columns:\n",
    "    if dataset[col].dtypes == 'object':\n",
    "        dataset[col].fillna(dataset[col].mode()[0],inplace=True)"
   ]
  },
  {
   "cell_type": "code",
   "execution_count": 53,
   "id": "11817b37",
   "metadata": {},
   "outputs": [
    {
     "data": {
      "text/plain": [
       "Genre             0\n",
       "Age               0\n",
       "Debt              0\n",
       "Married           0\n",
       "BankCustomer      0\n",
       "EducationLevel    0\n",
       "Ethnicity         0\n",
       "YearsEmployed     0\n",
       "PriorDefault      0\n",
       "Employed          0\n",
       "CreditScore       0\n",
       "DriversLicense    0\n",
       "Citizen           0\n",
       "ZipCode           0\n",
       "Income            0\n",
       "Approved          0\n",
       "dtype: int64"
      ]
     },
     "execution_count": 53,
     "metadata": {},
     "output_type": "execute_result"
    }
   ],
   "source": [
    "dataset.isna().sum()"
   ]
  },
  {
   "cell_type": "code",
   "execution_count": 54,
   "id": "6320cdc2",
   "metadata": {},
   "outputs": [
    {
     "name": "stdout",
     "output_type": "stream",
     "text": [
      "<class 'pandas.core.frame.DataFrame'>\n",
      "RangeIndex: 689 entries, 0 to 688\n",
      "Data columns (total 16 columns):\n",
      " #   Column          Non-Null Count  Dtype  \n",
      "---  ------          --------------  -----  \n",
      " 0   Genre           689 non-null    object \n",
      " 1   Age             689 non-null    object \n",
      " 2   Debt            689 non-null    float64\n",
      " 3   Married         689 non-null    object \n",
      " 4   BankCustomer    689 non-null    object \n",
      " 5   EducationLevel  689 non-null    object \n",
      " 6   Ethnicity       689 non-null    object \n",
      " 7   YearsEmployed   689 non-null    float64\n",
      " 8   PriorDefault    689 non-null    object \n",
      " 9   Employed        689 non-null    object \n",
      " 10  CreditScore     689 non-null    int64  \n",
      " 11  DriversLicense  689 non-null    object \n",
      " 12  Citizen         689 non-null    object \n",
      " 13  ZipCode         689 non-null    object \n",
      " 14  Income          689 non-null    int64  \n",
      " 15  Approved        689 non-null    object \n",
      "dtypes: float64(2), int64(2), object(12)\n",
      "memory usage: 86.2+ KB\n"
     ]
    }
   ],
   "source": [
    "dataset.info()"
   ]
  },
  {
   "cell_type": "markdown",
   "id": "23b97827",
   "metadata": {},
   "source": [
    "Data in Column \"Age\" is numerical to it shouldn't be of Object Data_type.\n",
    "Changing it's datatype to integer"
   ]
  },
  {
   "cell_type": "code",
   "execution_count": 55,
   "id": "cab1786f",
   "metadata": {},
   "outputs": [],
   "source": [
    "dataset['Age'] = pd.to_numeric(dataset['Age'])"
   ]
  },
  {
   "cell_type": "code",
   "execution_count": 56,
   "id": "c548e813",
   "metadata": {},
   "outputs": [],
   "source": [
    "dataset['Age'] = dataset['Age'].round(0).astype(int)"
   ]
  },
  {
   "cell_type": "code",
   "execution_count": 57,
   "id": "a6257ab4",
   "metadata": {},
   "outputs": [
    {
     "name": "stdout",
     "output_type": "stream",
     "text": [
      "<class 'pandas.core.frame.DataFrame'>\n",
      "RangeIndex: 689 entries, 0 to 688\n",
      "Data columns (total 16 columns):\n",
      " #   Column          Non-Null Count  Dtype  \n",
      "---  ------          --------------  -----  \n",
      " 0   Genre           689 non-null    object \n",
      " 1   Age             689 non-null    int32  \n",
      " 2   Debt            689 non-null    float64\n",
      " 3   Married         689 non-null    object \n",
      " 4   BankCustomer    689 non-null    object \n",
      " 5   EducationLevel  689 non-null    object \n",
      " 6   Ethnicity       689 non-null    object \n",
      " 7   YearsEmployed   689 non-null    float64\n",
      " 8   PriorDefault    689 non-null    object \n",
      " 9   Employed        689 non-null    object \n",
      " 10  CreditScore     689 non-null    int64  \n",
      " 11  DriversLicense  689 non-null    object \n",
      " 12  Citizen         689 non-null    object \n",
      " 13  ZipCode         689 non-null    object \n",
      " 14  Income          689 non-null    int64  \n",
      " 15  Approved        689 non-null    object \n",
      "dtypes: float64(2), int32(1), int64(2), object(11)\n",
      "memory usage: 83.6+ KB\n"
     ]
    }
   ],
   "source": [
    "dataset.info()"
   ]
  },
  {
   "cell_type": "code",
   "execution_count": 58,
   "id": "80ae0f85",
   "metadata": {},
   "outputs": [
    {
     "data": {
      "text/plain": [
       "Genre               2\n",
       "Age                60\n",
       "Debt              215\n",
       "Married             3\n",
       "BankCustomer        3\n",
       "EducationLevel     14\n",
       "Ethnicity           9\n",
       "YearsEmployed     132\n",
       "PriorDefault        2\n",
       "Employed            2\n",
       "CreditScore        23\n",
       "DriversLicense      2\n",
       "Citizen             3\n",
       "ZipCode           169\n",
       "Income            240\n",
       "Approved            2\n",
       "dtype: int64"
      ]
     },
     "execution_count": 58,
     "metadata": {},
     "output_type": "execute_result"
    }
   ],
   "source": [
    "dataset.nunique()"
   ]
  },
  {
   "cell_type": "markdown",
   "id": "e1b37bdd",
   "metadata": {},
   "source": [
    "# Mapping Data to specific numbers. "
   ]
  },
  {
   "cell_type": "markdown",
   "id": "b243d22c",
   "metadata": {},
   "source": [
    "This could also be done via Scaler fn."
   ]
  },
  {
   "cell_type": "code",
   "execution_count": 59,
   "id": "f4ce1b73",
   "metadata": {},
   "outputs": [
    {
     "data": {
      "text/plain": [
       "b    479\n",
       "a    210\n",
       "Name: Genre, dtype: int64"
      ]
     },
     "execution_count": 59,
     "metadata": {},
     "output_type": "execute_result"
    }
   ],
   "source": [
    "dataset['Genre'].value_counts()"
   ]
  },
  {
   "cell_type": "markdown",
   "id": "ad41e623",
   "metadata": {},
   "source": [
    "Let's assume:\n",
    "a = female = 1\n",
    "b = male = 0"
   ]
  },
  {
   "cell_type": "code",
   "execution_count": 60,
   "id": "1bafabc0",
   "metadata": {},
   "outputs": [],
   "source": [
    "dataset['Genre'] = dataset['Genre'].map({'a':1, 'b':0})"
   ]
  },
  {
   "cell_type": "code",
   "execution_count": 61,
   "id": "5d72b8eb",
   "metadata": {},
   "outputs": [
    {
     "data": {
      "text/plain": [
       "u    524\n",
       "y    163\n",
       "l      2\n",
       "Name: Married, dtype: int64"
      ]
     },
     "execution_count": 61,
     "metadata": {},
     "output_type": "execute_result"
    }
   ],
   "source": [
    "dataset['Married'].value_counts()"
   ]
  },
  {
   "cell_type": "markdown",
   "id": "0d219cf8",
   "metadata": {},
   "source": [
    "For the sake of simplicity, let's assume:\n",
    "u = yes = 1, \n",
    "y = No, 0,\n",
    "and replace l with mode i.e, 1.\n"
   ]
  },
  {
   "cell_type": "code",
   "execution_count": 62,
   "id": "c3fa5f18",
   "metadata": {},
   "outputs": [],
   "source": [
    "dataset['Married'] = dataset['Married'].map({'u':1, 'y':0, 'l':1})"
   ]
  },
  {
   "cell_type": "code",
   "execution_count": 63,
   "id": "9d926dc8",
   "metadata": {},
   "outputs": [
    {
     "data": {
      "text/plain": [
       "t    360\n",
       "f    329\n",
       "Name: PriorDefault, dtype: int64"
      ]
     },
     "execution_count": 63,
     "metadata": {},
     "output_type": "execute_result"
    }
   ],
   "source": [
    "dataset['PriorDefault'].value_counts()"
   ]
  },
  {
   "cell_type": "code",
   "execution_count": 64,
   "id": "9619c43a",
   "metadata": {},
   "outputs": [],
   "source": [
    "dataset['PriorDefault'] = dataset['PriorDefault'].map({'t':1, 'f':0})"
   ]
  },
  {
   "cell_type": "code",
   "execution_count": 65,
   "id": "339a422f",
   "metadata": {},
   "outputs": [
    {
     "data": {
      "text/plain": [
       "g     524\n",
       "p     163\n",
       "gg      2\n",
       "Name: BankCustomer, dtype: int64"
      ]
     },
     "execution_count": 65,
     "metadata": {},
     "output_type": "execute_result"
    }
   ],
   "source": [
    "dataset['BankCustomer'].value_counts()"
   ]
  },
  {
   "cell_type": "code",
   "execution_count": 66,
   "id": "f8571ed2",
   "metadata": {},
   "outputs": [],
   "source": [
    "dataset['BankCustomer'] = dataset['BankCustomer'].map({'g':1, 'p':0, 'gg':1})"
   ]
  },
  {
   "cell_type": "code",
   "execution_count": 67,
   "id": "1da7041e",
   "metadata": {},
   "outputs": [
    {
     "data": {
      "text/plain": [
       "f    395\n",
       "t    294\n",
       "Name: Employed, dtype: int64"
      ]
     },
     "execution_count": 67,
     "metadata": {},
     "output_type": "execute_result"
    }
   ],
   "source": [
    "dataset['Employed'].value_counts()"
   ]
  },
  {
   "cell_type": "code",
   "execution_count": 68,
   "id": "b3b3bd88",
   "metadata": {},
   "outputs": [],
   "source": [
    "dataset['Employed'] = dataset['Employed'].map({'f':1, 't':0})"
   ]
  },
  {
   "cell_type": "code",
   "execution_count": 69,
   "id": "ba05bf23",
   "metadata": {},
   "outputs": [],
   "source": [
    "dataset['Approved'] = dataset['Approved'].map({'+':1, '-':0})"
   ]
  },
  {
   "cell_type": "code",
   "execution_count": 70,
   "id": "fbcb283f",
   "metadata": {},
   "outputs": [
    {
     "data": {
      "text/plain": [
       "<AxesSubplot:>"
      ]
     },
     "execution_count": 70,
     "metadata": {},
     "output_type": "execute_result"
    },
    {
     "data": {
      "image/png": "[encoded data removed]",
      "text/plain": [
       "<Figure size 432x288 with 2 Axes>"
      ]
     },
     "metadata": {
      "needs_background": "light"
     },
     "output_type": "display_data"
    }
   ],
   "source": [
    "sns.heatmap(dataset.corr())"
   ]
  },
  {
   "cell_type": "markdown",
   "id": "fea1b939",
   "metadata": {},
   "source": [
    "As per correlation Matrix, the more important features are: PriorDefault, YearsEmployed, & CreditScore. But i'll also consider Age, Debt & Income."
   ]
  },
  {
   "cell_type": "code",
   "execution_count": 166,
   "id": "ec82d437",
   "metadata": {},
   "outputs": [],
   "source": [
    "X_data = dataset[['Age', 'Debt', 'Income', 'PriorDefault', 'YearsEmployed', 'CreditScore']]\n",
    "Y_data = dataset['Approved'] #dataset[['Approved']]-- doing it like this was creating errors because 1D array is required to use in the models"
   ]
  },
  {
   "cell_type": "markdown",
   "id": "2b3d0338",
   "metadata": {},
   "source": [
    "# Splitting Datasets into train_test_split\n"
   ]
  },
  {
   "cell_type": "code",
   "execution_count": 267,
   "id": "1d2e13e6",
   "metadata": {},
   "outputs": [],
   "source": [
    "X_train_data, X_test_data, Y_train_data, Y_test_data = train_test_split(X_data, Y_data, test_size = 0.2, random_state = 10)"
   ]
  },
  {
   "cell_type": "code",
   "execution_count": 268,
   "id": "b6ff97ff",
   "metadata": {},
   "outputs": [
    {
     "data": {
      "text/plain": [
       "402    0\n",
       "293    0\n",
       "69     0\n",
       "592    1\n",
       "403    0\n",
       "      ..\n",
       "369    0\n",
       "320    1\n",
       "527    0\n",
       "125    1\n",
       "265    0\n",
       "Name: Approved, Length: 551, dtype: int64"
      ]
     },
     "execution_count": 268,
     "metadata": {},
     "output_type": "execute_result"
    }
   ],
   "source": [
    "Y_train_data"
   ]
  },
  {
   "cell_type": "markdown",
   "id": "641bb5b4",
   "metadata": {},
   "source": [
    "# Fitting Logistic Regression Model"
   ]
  },
  {
   "cell_type": "code",
   "execution_count": 297,
   "id": "f49dc139",
   "metadata": {},
   "outputs": [
    {
     "data": {
      "text/plain": [
       "LogisticRegression(max_iter=200, tol=0.001)"
      ]
     },
     "execution_count": 297,
     "metadata": {},
     "output_type": "execute_result"
    }
   ],
   "source": [
    "lr = LogisticRegression(max_iter = 200, tol = 0.001) #randomly using maximum iterations = 200\n",
    "lr.fit(X_train_data, Y_train_data)"
   ]
  },
  {
   "cell_type": "code",
   "execution_count": 298,
   "id": "37b3a82e",
   "metadata": {},
   "outputs": [],
   "source": [
    "Y_pred = lr.predict(X_test_data)"
   ]
  },
  {
   "cell_type": "code",
   "execution_count": 299,
   "id": "76a87ddc",
   "metadata": {},
   "outputs": [
    {
     "data": {
      "text/plain": [
       "array([[62, 10],\n",
       "       [ 3, 63]], dtype=int64)"
      ]
     },
     "execution_count": 299,
     "metadata": {},
     "output_type": "execute_result"
    }
   ],
   "source": [
    "cr = confusion_matrix(Y_test_data, Y_pred)\n",
    "cr"
   ]
  },
  {
   "cell_type": "code",
   "execution_count": 300,
   "id": "0af067b6",
   "metadata": {},
   "outputs": [
    {
     "data": {
      "text/plain": [
       "<AxesSubplot:>"
      ]
     },
     "execution_count": 300,
     "metadata": {},
     "output_type": "execute_result"
    },
    {
     "data": {
      "image/png": "[encoded data removed]",
      "text/plain": [
       "<Figure size 432x288 with 2 Axes>"
      ]
     },
     "metadata": {
      "needs_background": "light"
     },
     "output_type": "display_data"
    }
   ],
   "source": [
    "sns.heatmap(cr)"
   ]
  },
  {
   "cell_type": "markdown",
   "id": "9c4a1a2a",
   "metadata": {},
   "source": [
    "# Checking Model's Accuracy"
   ]
  },
  {
   "cell_type": "code",
   "execution_count": 301,
   "id": "bd6c7310",
   "metadata": {},
   "outputs": [
    {
     "data": {
      "text/plain": [
       "0.6224747474747474"
      ]
     },
     "execution_count": 301,
     "metadata": {},
     "output_type": "execute_result"
    }
   ],
   "source": [
    "r2_score(Y_test_data, Y_pred)"
   ]
  },
  {
   "cell_type": "code",
   "execution_count": 302,
   "id": "b11c876e",
   "metadata": {},
   "outputs": [
    {
     "data": {
      "text/plain": [
       "0.906474820143885"
      ]
     },
     "execution_count": 302,
     "metadata": {},
     "output_type": "execute_result"
    }
   ],
   "source": [
    "f1_score(Y_test_data, Y_pred)"
   ]
  },
  {
   "cell_type": "code",
   "execution_count": 303,
   "id": "6cc3a887",
   "metadata": {},
   "outputs": [
    {
     "data": {
      "text/plain": [
       "0.09420289855072464"
      ]
     },
     "execution_count": 303,
     "metadata": {},
     "output_type": "execute_result"
    }
   ],
   "source": [
    "mean_absolute_error(Y_test_data, Y_pred)"
   ]
  },
  {
   "cell_type": "code",
   "execution_count": 304,
   "id": "a2cee3f8",
   "metadata": {},
   "outputs": [
    {
     "data": {
      "text/plain": [
       "0.09420289855072464"
      ]
     },
     "execution_count": 304,
     "metadata": {},
     "output_type": "execute_result"
    }
   ],
   "source": [
    "mean_squared_error(Y_test_data, Y_pred)"
   ]
  },
  {
   "cell_type": "code",
   "execution_count": 305,
   "id": "182a78a8",
   "metadata": {},
   "outputs": [
    {
     "data": {
      "text/plain": [
       "0.9057971014492754"
      ]
     },
     "execution_count": 305,
     "metadata": {},
     "output_type": "execute_result"
    }
   ],
   "source": [
    "accuracy_score(Y_test_data,Y_pred, normalize = True)"
   ]
  },
  {
   "cell_type": "markdown",
   "id": "d9bb8754",
   "metadata": {},
   "source": [
    "# Finding the best performing model"
   ]
  },
  {
   "cell_type": "code",
   "execution_count": 306,
   "id": "c3ef80e3",
   "metadata": {},
   "outputs": [],
   "source": [
    "scaler = MinMaxScaler(feature_range=(-1, 1))\n",
    "rescaled_X_train_data = scaler.fit_transform(X_train_data)\n"
   ]
  },
  {
   "cell_type": "code",
   "execution_count": 307,
   "id": "78d1a15d",
   "metadata": {},
   "outputs": [
    {
     "name": "stdout",
     "output_type": "stream",
     "text": [
      "Best: 0.843980 using {'max_iter': 100, 'tol': 0.001}\n",
      "Accuracy of logistic regression classifier:  0.8457350272232305\n"
     ]
    }
   ],
   "source": [
    "#Finding the most suitable value of hyperparameters using GridCvSearch\n",
    "\n",
    "#Considering only 2 hyperparameters of Logistic Regression, i.e.\n",
    "tol = [0.001 ,0.0001]  #Tolerance for stopping criteria.\n",
    "max_iter = [100, 150, 200]   #Maximum number of iterations taken for the solvers to converge.\n",
    "\n",
    "param_grid = dict(tol=tol, max_iter=max_iter)\n",
    "\n",
    "# Instantiate GridSearchCV with the required parameters\n",
    "grid_model = GridSearchCV(estimator=lr, param_grid=param_grid, cv=5)\n",
    "\n",
    "# Fitting grid_model to the data\n",
    "grid_model_result = grid_model.fit(rescaled_X_train_data , Y_train_data)\n",
    "\n",
    "# Summarize results\n",
    "best_score, best_params = grid_model_result.best_score_, grid_model_result.best_params_\n",
    "print(\"Best: %f using %s\" % (best_score, best_params))\n",
    "\n",
    "# Extract the best model and evaluate it on the test set\n",
    "best_model = grid_model_result.best_estimator_\n",
    "print(\"Accuracy of logistic regression classifier: \", best_model.score(rescaled_X_train_data,Y_train_data))\n"
   ]
  },
  {
   "cell_type": "code",
   "execution_count": null,
   "id": "b2f62b0b",
   "metadata": {},
   "outputs": [],
   "source": []
  },
  {
   "cell_type": "code",
   "execution_count": null,
   "id": "50be8b7b",
   "metadata": {},
   "outputs": [],
   "source": []
  },
  {
   "cell_type": "code",
   "execution_count": null,
   "id": "d4698819",
   "metadata": {},
   "outputs": [],
   "source": []
  },
  {
   "cell_type": "code",
   "execution_count": null,
   "id": "143a86fa",
   "metadata": {},
   "outputs": [],
   "source": []
  },
  {
   "cell_type": "code",
   "execution_count": null,
   "id": "1482c519",
   "metadata": {},
   "outputs": [],
   "source": []
  },
  {
   "cell_type": "code",
   "execution_count": null,
   "id": "2b2e2e5f",
   "metadata": {},
   "outputs": [],
   "source": []
  },
  {
   "cell_type": "code",
   "execution_count": null,
   "id": "766b97f8",
   "metadata": {},
   "outputs": [],
   "source": []
  },
  {
   "cell_type": "code",
   "execution_count": null,
   "id": "408bd5fd",
   "metadata": {},
   "outputs": [],
   "source": []
  },
  {
   "cell_type": "code",
   "execution_count": null,
   "id": "c8c9ddb4",
   "metadata": {},
   "outputs": [],
   "source": []
  }
 ],
 "metadata": {
  "kernelspec": {
   "display_name": "Python 3 (ipykernel)",
   "language": "python",
   "name": "python3"
  },
  "language_info": {
   "codemirror_mode": {
    "name": "ipython",
    "version": 3
   },
   "file_extension": ".py",
   "mimetype": "text/x-python",
   "name": "python",
   "nbconvert_exporter": "python",
   "pygments_lexer": "ipython3",
   "version": "3.9.12"
  }
 },
 "nbformat": 4,
 "nbformat_minor": 5
}
